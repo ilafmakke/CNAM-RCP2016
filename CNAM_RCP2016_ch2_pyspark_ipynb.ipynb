{
  "nbformat": 4,
  "nbformat_minor": 0,
  "metadata": {
    "colab": {
      "provenance": [],
      "toc_visible": true,
      "authorship_tag": "ABX9TyPgE4JrLdjlMa75i+U5chYe",
      "include_colab_link": true
    },
    "kernelspec": {
      "name": "python3",
      "display_name": "Python 3"
    },
    "language_info": {
      "name": "python"
    }
  },
  "cells": [
    {
      "cell_type": "markdown",
      "metadata": {
        "id": "view-in-github",
        "colab_type": "text"
      },
      "source": [
        "<a href=\"https://colab.research.google.com/github/ilafmakke/CNAM-RCP2016/blob/main/CNAM_RCP2016_ch2_pyspark_ipynb.ipynb\" target=\"_parent\"><img src=\"https://colab.research.google.com/assets/colab-badge.svg\" alt=\"Open In Colab\"/></a>"
      ]
    },
    {
      "cell_type": "code",
      "execution_count": null,
      "metadata": {
        "id": "Ps8zWzu-QVdL",
        "colab": {
          "base_uri": "https://localhost:8080/"
        },
        "outputId": "d3fce08c-e7c5-468d-f68e-c3c1c690c6a0"
      },
      "outputs": [
        {
          "output_type": "stream",
          "name": "stdout",
          "text": [
            "Requirement already satisfied: pyspark in /usr/local/lib/python3.10/dist-packages (3.5.3)\n",
            "Requirement already satisfied: py4j==0.10.9.7 in /usr/local/lib/python3.10/dist-packages (from pyspark) (0.10.9.7)\n"
          ]
        }
      ],
      "source": [
        "#Installer Spark localement ou utiliser une plateforme comme Google Colab avec pyspark\n",
        "!pip install pyspark\n"
      ]
    },
    {
      "cell_type": "code",
      "source": [
        "from pyspark.sql import SparkSession\n",
        "spark = SparkSession.builder.appName(\"Introduction\").getOrCreate()\n",
        "#La méthode builder est utilisée pour configurer et construire une nouvelle instance de SparkSession.\n",
        "#C’est l’équivalent d’un constructeur en programmation orientée objet."
      ],
      "metadata": {
        "id": "CohROUPrnz6f"
      },
      "execution_count": null,
      "outputs": []
    },
    {
      "cell_type": "code",
      "source": [
        "texteSophie = spark.read.text(\"sophie.txt\")\n"
      ],
      "metadata": {
        "id": "sWQNe8LdoSx7"
      },
      "execution_count": null,
      "outputs": []
    },
    {
      "cell_type": "code",
      "source": [
        "texteSophie.count()#retourne le nombre de lignes"
      ],
      "metadata": {
        "colab": {
          "base_uri": "https://localhost:8080/"
        },
        "id": "73HS-T_Zo_O5",
        "outputId": "cc60e95f-b1db-4b18-cf95-356d67b3c34c"
      },
      "execution_count": null,
      "outputs": [
        {
          "output_type": "execute_result",
          "data": {
            "text/plain": [
              "155"
            ]
          },
          "metadata": {},
          "execution_count": 16
        }
      ]
    },
    {
      "cell_type": "code",
      "source": [
        "texteSophie.first() # retourne les première ligne de ce DataFrame"
      ],
      "metadata": {
        "colab": {
          "base_uri": "https://localhost:8080/"
        },
        "id": "Wg7yb_XVpEMp",
        "outputId": "6ff7060b-ef46-4653-8551-29e2e31e776b"
      },
      "execution_count": null,
      "outputs": [
        {
          "output_type": "execute_result",
          "data": {
            "text/plain": [
              "Row(value='Mme la Comtesse de S?�gur (n?�e Rostopchine)')"
            ]
          },
          "metadata": {},
          "execution_count": 17
        }
      ]
    },
    {
      "cell_type": "code",
      "source": [
        "texteSophie.take(5) # retourne les 5 premières lignes de ce DataFrame\n"
      ],
      "metadata": {
        "colab": {
          "base_uri": "https://localhost:8080/"
        },
        "id": "Q2NNDQQVpEOW",
        "outputId": "c329d51d-80bd-4ad5-982b-14b04b4b2fa6"
      },
      "execution_count": null,
      "outputs": [
        {
          "output_type": "execute_result",
          "data": {
            "text/plain": [
              "[Row(value='Mme la Comtesse de S?�gur (n?�e Rostopchine)'),\n",
              " Row(value='LES MALHEURS DE SOPHIE (1858)'),\n",
              " Row(value=''),\n",
              " Row(value='I--La poup?�e de cire.'),\n",
              " Row(value='Ma bonne, ma bonne, dit un jour Sophie en accourant dans sa')]"
            ]
          },
          "metadata": {},
          "execution_count": 18
        }
      ]
    },
    {
      "cell_type": "code",
      "source": [
        "texteSophie.collect() # retourne sur le *driver* le contenu complet de ce DataFrame et en affiche une partie à la console\n"
      ],
      "metadata": {
        "colab": {
          "base_uri": "https://localhost:8080/"
        },
        "id": "i8rx1RlypERd",
        "outputId": "da7a3aab-76a7-47d7-c403-0586a2a5a35d"
      },
      "execution_count": null,
      "outputs": [
        {
          "output_type": "execute_result",
          "data": {
            "text/plain": [
              "[Row(value='Mme la Comtesse de S?�gur (n?�e Rostopchine)'),\n",
              " Row(value='LES MALHEURS DE SOPHIE (1858)'),\n",
              " Row(value=''),\n",
              " Row(value='I--La poup?�e de cire.'),\n",
              " Row(value='Ma bonne, ma bonne, dit un jour Sophie en accourant dans sa'),\n",
              " Row(value=\"chambre, venez vite ouvrir une caisse que papa m'a envoy?�e de\"),\n",
              " Row(value=\"Paris; je crois que c'est une poup?�e de cire, car il m'en a promis\"),\n",
              " Row(value='une.'),\n",
              " Row(value=''),\n",
              " Row(value='LA BONNE.--O?� est la caisse?'),\n",
              " Row(value=''),\n",
              " Row(value=\"SOPHIE.--Dans l'antichambre: venez vite, ma bonne, je vous en\"),\n",
              " Row(value='supplie.'),\n",
              " Row(value=''),\n",
              " Row(value=\"La bonne posa son ouvrage et suivit Sophie ?� l'antichambre. Une\"),\n",
              " Row(value='caisse de bois blanc ?�tait pos?�e sur une chaise; la bonne'),\n",
              " Row(value=\"l'ouvrit. Sophie aper?�ut la t??te blonde et fris?�e d'une jolie\"),\n",
              " Row(value='poup?�e de cire; elle poussa un cri de joie et voulut saisir la'),\n",
              " Row(value=\"poup?�e, qui ?�tait encore couverte d'un papier d'emballage.\"),\n",
              " Row(value=''),\n",
              " Row(value='LA BONNE.--Prenez garde! ne tirez pas encore; vous allez tout'),\n",
              " Row(value='casser. La poup?�e tient par des cordons.'),\n",
              " Row(value=''),\n",
              " Row(value=\"SOPHIE.--Cassez-les, arrachez-les; vite, ma bonne, que j'aie ma\"),\n",
              " Row(value='poup?�e.'),\n",
              " Row(value=''),\n",
              " Row(value=\"La bonne, au lieu de tirer et d'arracher, prit ses ciseaux, coupa\"),\n",
              " Row(value='les cordons, enleva les papiers, et Sophie put prendre la plus'),\n",
              " Row(value=\"jolie poup?�e qu'elle e?�t jamais vue. Les joues ?�taient roses avec\"),\n",
              " Row(value='de petites fossettes; les yeux bleus et brillants; le cou, la'),\n",
              " Row(value='poitrine, les bras en cire, charmants et potel?�s. La toilette'),\n",
              " Row(value='?�tait tr?�s simple: une robe de percale festonn?�e, une ceinture'),\n",
              " Row(value='bleue, des bas de coton et des brodequins noirs en peau vernie.'),\n",
              " Row(value=''),\n",
              " Row(value=\"Sophie l'embrassa plus de vingt fois, et, la tenant dans ses bras,\"),\n",
              " Row(value='elle se mit ?� sauter et ?� danser. Son cousin Paul, qui avait cinq'),\n",
              " Row(value='ans, et qui ?�tait en visite chez Sophie, accourut aux cris de joie'),\n",
              " Row(value=\"qu'elle poussait.\"),\n",
              " Row(value=''),\n",
              " Row(value=\"Paul, regarde quelle jolie poup?�e m'a envoy?�e papa! s'?�cria\"),\n",
              " Row(value='Sophie.'),\n",
              " Row(value=''),\n",
              " Row(value='PAUL.--Donne-la-moi, que je la voie mieux.'),\n",
              " Row(value=''),\n",
              " Row(value='SOPHIE.--Non, tu la casserais.'),\n",
              " Row(value=''),\n",
              " Row(value=\"PAUL.--Je t'assure que j'y prendrai bien garde; je te la rendrai\"),\n",
              " Row(value='tout de suite.'),\n",
              " Row(value=''),\n",
              " Row(value='Sophie donna la poup?�e ?� son cousin, en lui recommandant encore de'),\n",
              " Row(value='prendre bien garde de la faire tomber. Paul la retourna, la'),\n",
              " Row(value='regarda de tous les c?�t?�s, puis la remit ?� Sophie en secouant la'),\n",
              " Row(value='t??te.'),\n",
              " Row(value=''),\n",
              " Row(value='SOPHIE.--Pourquoi secoues-tu la t??te?'),\n",
              " Row(value=''),\n",
              " Row(value=\"PAUL.--Parce que cette poup?�e n'est pas solide; je crains que tu\"),\n",
              " Row(value='ne la casses.'),\n",
              " Row(value=''),\n",
              " Row(value='SOPHIE.--Oh! sois tranquille, je vais la soigner tant, tant que'),\n",
              " Row(value=\"je ne la casserai jamais. Je vais demander ?� maman d'inviter\"),\n",
              " Row(value='Camille et Madeleine ?� d?�jeuner avec nous, pour leur faire voir ma'),\n",
              " Row(value='jolie poup?�e.'),\n",
              " Row(value=''),\n",
              " Row(value='PAUL.--Elles te la casseront.'),\n",
              " Row(value=''),\n",
              " Row(value='SOPHIE.--Non, elles sont trop bonnes pour me faire de la peine'),\n",
              " Row(value='en cassant ma pauvre poup?�e.'),\n",
              " Row(value=''),\n",
              " Row(value='Le lendemain, Sophie peigna et habilla sa poup?�e, parce que ses'),\n",
              " Row(value=\"amies devaient venir. En l'habillant, elle la trouva p?�le. ?�Peut-??tre,\"),\n",
              " Row(value='dit-elle, a-t-elle froid, ses pieds sont glac?�s. Je vais la'),\n",
              " Row(value=\"mettre un peu au soleil pour que mes amies voient que j'en ai bien\"),\n",
              " Row(value='soin et que je la tiens bien chaudement.?� Sophie alla porter la'),\n",
              " Row(value='poup?�e au soleil sur la fen??tre du salon.'),\n",
              " Row(value=''),\n",
              " Row(value='?�Que fais-tu ?� la fen??tre, Sophie??� lui demanda sa maman.'),\n",
              " Row(value=''),\n",
              " Row(value='SOPHIE.--Je veux r?�chauffer ma poup?�e, maman; elle a tr?�s froid.'),\n",
              " Row(value=''),\n",
              " Row(value='LA MAMAN.--Prends garde, tu vas la faire fondre.'),\n",
              " Row(value=''),\n",
              " Row(value=\"SOPHIE.--Oh non! maman, il n'y a pas de danger: elle est dure\"),\n",
              " Row(value='comme du bois.'),\n",
              " Row(value=''),\n",
              " Row(value='LA MAMAN.--Mais la chaleur la rendra molle; il lui arrivera'),\n",
              " Row(value=\"quelque malheur, je t'en pr?�viens.\"),\n",
              " Row(value=''),\n",
              " Row(value='Sophie ne voulut pas croire sa maman, elle mit la poup?�e ?�tendue'),\n",
              " Row(value='tout de son long au soleil, qui ?�tait br?�lant.'),\n",
              " Row(value=''),\n",
              " Row(value=\"Au m??me instant elle entendit le bruit d'une voiture: c'?�taient\"),\n",
              " Row(value=\"ses amies qui arrivaient. Elle courut au-devant d'elles; Paul les\"),\n",
              " Row(value='avait attendues sur le perron; elles entr?�rent au salon en courant'),\n",
              " Row(value='et parlant toutes ?� la fois. Malgr?� leur impatience de voir la'),\n",
              " Row(value='poup?�e, elles commenc?�rent par dire bonjour ?� Mme de R?�an, maman'),\n",
              " Row(value='de Sophie; elles all?�rent ensuite ?� Sophie, qui tenait sa poup?�e'),\n",
              " Row(value=\"et la regardait d'un air constern?�.\"),\n",
              " Row(value=''),\n",
              " Row(value='MADELEINE, _regardant la poup?�e. _--La poup?�e est aveugle, elle'),\n",
              " Row(value=\"n'a pas d'yeux.\"),\n",
              " Row(value=''),\n",
              " Row(value='CAMILLE.--Quel dommage! comme elle est jolie!'),\n",
              " Row(value=''),\n",
              " Row(value='MADELEINE.--Mais comment est-elle devenue aveugle! Elle devait'),\n",
              " Row(value='avoir des yeux.'),\n",
              " Row(value=''),\n",
              " Row(value='Sophie ne disait rien; elle regardait la poup?�e et pleurait.'),\n",
              " Row(value=''),\n",
              " Row(value=\"MADAME DE R?�AN.--Je t'avais dit, Sophie, qu'il arriverait un\"),\n",
              " Row(value=\"malheur ?� ta poup?�e si tu t'obstinais ?� la mettre au soleil.\"),\n",
              " Row(value=\"Heureusement que la figure et les bras n'ont pas eu le temps de\"),\n",
              " Row(value='fondre. Voyons, ne pleure pas; je suis tr?�s habile m?�decin, je'),\n",
              " Row(value='pourrai peut-??tre lui rendre ses yeux.'),\n",
              " Row(value=''),\n",
              " Row(value=\"SOPHIE, _pleurant. _--C'est impossible, maman, ils n'y sont plus.\"),\n",
              " Row(value=''),\n",
              " Row(value='Mme de R?�an prit la poup?�e en souriant et la secoua un peu; on'),\n",
              " Row(value='entendit comme quelque chose qui roulait dans la t??te. ?�Ce sont'),\n",
              " Row(value='les yeux qui font le bruit que tu entends, dit Mme de R?�an; la'),\n",
              " Row(value='cire a fondu autour des yeux, et ils sont tomb?�s. Mais je t?�cherai'),\n",
              " Row(value='de les ravoir. D?�shabillez la poup?�e, mes enfants, pendant que je'),\n",
              " Row(value='pr?�parerai mes instruments.?�'),\n",
              " Row(value=''),\n",
              " Row(value='Aussit?�t Paul et les trois petites filles se pr?�cipit?�rent sur la'),\n",
              " Row(value='poup?�e pour la d?�shabiller. Sophie ne pleurait plus; elle'),\n",
              " Row(value='attendait avec impatience ce qui allait arriver.'),\n",
              " Row(value=''),\n",
              " Row(value='La maman revint, prit ses ciseaux, d?�tacha le corps cousu ?� la'),\n",
              " Row(value='poitrine; les yeux, qui ?�taient dans la t??te, tomb?�rent sur ses'),\n",
              " Row(value='genoux; elle les prit avec des pinces, les repla?�a o?� ils devaient'),\n",
              " Row(value='??tre, et, pour les emp??cher de tomber encore, elle coula dans la'),\n",
              " Row(value='t??te, et sur la place o?� ?�taient les yeux, de la cire fondue'),\n",
              " Row(value=\"qu'elle avait apport?�e dans une petite casserole; elle attendit\"),\n",
              " Row(value='quelques instants que la cire f?�t refroidie, et puis elle recousit'),\n",
              " Row(value='le corps ?� la t??te.'),\n",
              " Row(value=''),\n",
              " Row(value=\"Les petites n'avaient pas boug?�. Sophie regardait avec crainte\"),\n",
              " Row(value='toutes ces op?�rations, elle avait peur que ce ne f?�t pas bien;'),\n",
              " Row(value='mais, quand elle vit sa poup?�e raccommod?�e et aussi jolie'),\n",
              " Row(value=\"qu'auparavant, elle sauta au cou de sa maman et l'embrassa dix\"),\n",
              " Row(value='fois.'),\n",
              " Row(value=''),\n",
              " Row(value='?�Merci, ma ch?�re maman, disait-elle, merci: une autre fois je vous'),\n",
              " Row(value='?�couterai, bien s?�r.?�'),\n",
              " Row(value=''),\n",
              " Row(value=\"On rhabilla bien vite la poup?�e, on l'assit sur un petit fauteuil\"),\n",
              " Row(value=\"et on l'emmena promener en triomphe en chantant:\"),\n",
              " Row(value=''),\n",
              " Row(value='_Vive maman! De baisers je la mange. Vive maman! Elle est notre'),\n",
              " Row(value='bon ange._'),\n",
              " Row(value=''),\n",
              " Row(value='La poup?�e v?�cut tr?�s longtemps bien soign?�e, bien aim?�e; mais'),\n",
              " Row(value='petit ?� petit elle perdit ses charmes, voici comment.'),\n",
              " Row(value='')]"
            ]
          },
          "metadata": {},
          "execution_count": 19
        }
      ]
    },
    {
      "cell_type": "code",
      "source": [
        "texteSophie.show(5)"
      ],
      "metadata": {
        "colab": {
          "base_uri": "https://localhost:8080/"
        },
        "id": "_c3k4LibpETp",
        "outputId": "bf7eb44a-3cfc-45e7-87b2-b4ad3841cab2"
      },
      "execution_count": null,
      "outputs": [
        {
          "output_type": "stream",
          "name": "stdout",
          "text": [
            "+--------------------+\n",
            "|               value|\n",
            "+--------------------+\n",
            "|Mme la Comtesse d...|\n",
            "|LES MALHEURS DE S...|\n",
            "|                    |\n",
            "|I--La poup?�e de ...|\n",
            "|Ma bonne, ma bonn...|\n",
            "+--------------------+\n",
            "only showing top 5 rows\n",
            "\n"
          ]
        }
      ]
    },
    {
      "cell_type": "code",
      "source": [
        "lignesAvecPoupee = texteSophie.filter(texteSophie.value.contains(\"Sophie\"))\n",
        "lignesAvecPoupee.show(2) # affiche les 2 premières lignes de ce DataFrame"
      ],
      "metadata": {
        "colab": {
          "base_uri": "https://localhost:8080/"
        },
        "id": "ZRjGvbfgpEWa",
        "outputId": "9bc23d80-e9fb-4cfd-f046-932afcc2897d"
      },
      "execution_count": null,
      "outputs": [
        {
          "output_type": "stream",
          "name": "stdout",
          "text": [
            "+--------------------+\n",
            "|               value|\n",
            "+--------------------+\n",
            "|Ma bonne, ma bonn...|\n",
            "|La bonne posa son...|\n",
            "+--------------------+\n",
            "only showing top 2 rows\n",
            "\n"
          ]
        }
      ]
    },
    {
      "cell_type": "code",
      "source": [
        "from pyspark.sql.functions import *  # pour utiliser fonctions comme length()\n",
        "longueursLignes = texteSophie.select(length(texteSophie.value))\n",
        "longueursLignes.show()"
      ],
      "metadata": {
        "colab": {
          "base_uri": "https://localhost:8080/"
        },
        "id": "mQbTaBn34Zgv",
        "outputId": "634cc337-c4c4-4587-d32e-713ad24fedd0"
      },
      "execution_count": null,
      "outputs": [
        {
          "output_type": "stream",
          "name": "stdout",
          "text": [
            "+-------------+\n",
            "|length(value)|\n",
            "+-------------+\n",
            "|           44|\n",
            "|           29|\n",
            "|            0|\n",
            "|           22|\n",
            "|           59|\n",
            "+-------------+\n",
            "only showing top 5 rows\n",
            "\n"
          ]
        }
      ]
    },
    {
      "cell_type": "code",
      "source": [
        "longueursLignes.select(longueursLignes['length(value)'].alias(\"lengths\")).show(5)\n"
      ],
      "metadata": {
        "colab": {
          "base_uri": "https://localhost:8080/"
        },
        "id": "PsWpgDOC5A8_",
        "outputId": "9086f953-9b15-4148-da25-0b4cc72812f2"
      },
      "execution_count": null,
      "outputs": [
        {
          "output_type": "stream",
          "name": "stdout",
          "text": [
            "+-------+\n",
            "|lengths|\n",
            "+-------+\n",
            "|     44|\n",
            "|     29|\n",
            "|      0|\n",
            "|     22|\n",
            "|     59|\n",
            "+-------+\n",
            "only showing top 5 rows\n",
            "\n"
          ]
        }
      ]
    },
    {
      "cell_type": "code",
      "source": [
        "#n utilisant cache(), PySpark mémorise les données intermédiaires, réduisant le besoin de recalculer les longueurs des lignes à chaque fois.\n",
        "#Lorsqu'un DataFrame est recalculé plusieurs fois dans un pipeline de traitement\n",
        "#(comme dans des transformations ou actions successives), cela peut être coûteux en temps si les calculs sont répétitifs.\n",
        "longueursLignes = texteSophie.select(length(texteSophie.value)).cache()\n"
      ],
      "metadata": {
        "id": "8H8jfTB98Wq1"
      },
      "execution_count": null,
      "outputs": []
    },
    {
      "cell_type": "code",
      "source": [
        "texteSophie.printSchema()\n",
        "longueursLignes.printSchema()"
      ],
      "metadata": {
        "colab": {
          "base_uri": "https://localhost:8080/"
        },
        "id": "sbauuOY18z4C",
        "outputId": "013050ea-79c0-4bbf-81d3-9f58bb221003"
      },
      "execution_count": null,
      "outputs": [
        {
          "output_type": "stream",
          "name": "stdout",
          "text": [
            "root\n",
            " |-- value: string (nullable = true)\n",
            "\n",
            "root\n",
            " |-- length(value): integer (nullable = true)\n",
            "\n"
          ]
        }
      ]
    },
    {
      "cell_type": "markdown",
      "source": [
        "#Devoir\n",
        "1- Combien de caractères contient le fichier ?"
      ],
      "metadata": {
        "id": "WQm3v7gw7Ghp"
      }
    },
    {
      "cell_type": "code",
      "source": [],
      "metadata": {
        "id": "FzZoosUK7E4t"
      },
      "execution_count": null,
      "outputs": []
    }
  ]
}